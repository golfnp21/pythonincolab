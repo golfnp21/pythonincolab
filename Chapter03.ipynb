{
  "nbformat": 4,
  "nbformat_minor": 0,
  "metadata": {
    "colab": {
      "provenance": [],
      "toc_visible": true,
      "include_colab_link": true
    },
    "kernelspec": {
      "name": "python3",
      "display_name": "Python 3"
    },
    "language_info": {
      "name": "python"
    }
  },
  "cells": [
    {
      "cell_type": "markdown",
      "metadata": {
        "id": "view-in-github",
        "colab_type": "text"
      },
      "source": [
        "<a href=\"https://colab.research.google.com/github/golfnp21/pythonincolab/blob/main/Chapter03.ipynb\" target=\"_parent\"><img src=\"https://colab.research.google.com/assets/colab-badge.svg\" alt=\"Open In Colab\"/></a>"
      ]
    },
    {
      "cell_type": "markdown",
      "source": [
        "# Variables and Data Types"
      ],
      "metadata": {
        "id": "uF7sN3aZj5tg"
      }
    },
    {
      "cell_type": "markdown",
      "source": [
        "## Syntax"
      ],
      "metadata": {
        "id": "tzo-2qNshTrO"
      }
    },
    {
      "cell_type": "code",
      "source": [
        "x = \"Hello\"\n",
        "print(x)"
      ],
      "metadata": {
        "id": "lYuHj4XjhYls"
      },
      "execution_count": null,
      "outputs": []
    },
    {
      "cell_type": "code",
      "source": [
        "x = 10\n",
        "if x > 4:\n",
        "  print(\"x > 4\")"
      ],
      "metadata": {
        "id": "VlXdKpOlkj7o"
      },
      "execution_count": null,
      "outputs": []
    },
    {
      "cell_type": "code",
      "source": [
        "if x > 4:\n",
        "print(\"x > 4\")"
      ],
      "metadata": {
        "id": "ELX9OPvalQ13"
      },
      "execution_count": null,
      "outputs": []
    },
    {
      "cell_type": "markdown",
      "source": [
        "## Variable\n",
        "\n",
        "การตั้งชื่อตัวแปร (Variable)\n",
        "1. ต้องไม่ขึ้นต้นด้วย ตัวเลข\n",
        "2. ต้องไม่มีช่องวาง\n",
        "3. ต้องไม่มี - ในชื่อตัวแปร\n",
        "\n"
      ],
      "metadata": {
        "id": "bgwramFhloYy"
      }
    },
    {
      "cell_type": "code",
      "source": [
        "variable = \"Hello World 1\"\n",
        "VariaBLE = \"Hello World 2\"\n",
        "my_variable = \"Hello World 3\"\n",
        "\n",
        "print(variable)\n",
        "print(VariaBLE)\n",
        "print(my_variable)"
      ],
      "metadata": {
        "id": "s_NV_SjFly6l"
      },
      "execution_count": null,
      "outputs": []
    },
    {
      "cell_type": "code",
      "source": [
        "1variable = \"Hello World 1\""
      ],
      "metadata": {
        "id": "9cM0JuemqSbD"
      },
      "execution_count": null,
      "outputs": []
    },
    {
      "cell_type": "code",
      "source": [
        "my-variable = \"Hello World 2\""
      ],
      "metadata": {
        "id": "Ve87fNKtqoeo"
      },
      "execution_count": null,
      "outputs": []
    },
    {
      "cell_type": "code",
      "source": [
        "my variable = \"Hello World 3\""
      ],
      "metadata": {
        "id": "PE4i-lVXqpvl"
      },
      "execution_count": null,
      "outputs": []
    },
    {
      "cell_type": "markdown",
      "source": [
        "## Data Type\n",
        "1. Numeric Types    : int (Integer), float (Floating point number)\n",
        "2. Text Type              : str (String)\n",
        "3. Boolean Type       : bool\n",
        "4. Sequence Types  : list\n",
        "5. Mapping Type       : dict"
      ],
      "metadata": {
        "id": "M7NMIyzeLxMs"
      }
    },
    {
      "cell_type": "markdown",
      "source": [
        "### int\n",
        "เป็นเลขจำนวนเต็ม"
      ],
      "metadata": {
        "id": "Vwqz_rV7S-Iu"
      }
    },
    {
      "cell_type": "code",
      "execution_count": null,
      "metadata": {
        "id": "SwTVWS0CLfQs"
      },
      "outputs": [],
      "source": [
        "x = 3\n",
        "y = 5\n",
        "z = 7\n",
        "print(x, y, z)"
      ]
    },
    {
      "cell_type": "code",
      "source": [
        "print(type(x))\n",
        "print(type(y))\n",
        "print(type(z))"
      ],
      "metadata": {
        "id": "nq3k2YvMNAda"
      },
      "execution_count": null,
      "outputs": []
    },
    {
      "cell_type": "markdown",
      "source": [
        "### float\n",
        "ตัวเลขทศนิยม"
      ],
      "metadata": {
        "id": "PKeHtDXPsPWT"
      }
    },
    {
      "cell_type": "code",
      "source": [
        "x = 3.7\n",
        "y = 5.2\n",
        "z = 7.9\n",
        "print(x, y, z)"
      ],
      "metadata": {
        "id": "inG4k_LysRnR"
      },
      "execution_count": null,
      "outputs": []
    },
    {
      "cell_type": "markdown",
      "source": [
        "### str\n",
        "ตัวอักษร"
      ],
      "metadata": {
        "id": "GzQCRkHxsa42"
      }
    },
    {
      "cell_type": "code",
      "source": [
        "x = \"Hello world\"\n",
        "print(type(x), x)"
      ],
      "metadata": {
        "id": "21XxEaSgRoK9"
      },
      "execution_count": null,
      "outputs": []
    },
    {
      "cell_type": "code",
      "source": [
        "y = \"Python\"\n",
        "print(y)"
      ],
      "metadata": {
        "id": "JstlHZujSWcn"
      },
      "execution_count": null,
      "outputs": []
    },
    {
      "cell_type": "markdown",
      "source": [
        "### bool\n",
        "มี 2 ค่าเป็น True และ Flase"
      ],
      "metadata": {
        "id": "KaF-hdLQsucX"
      }
    },
    {
      "cell_type": "code",
      "source": [
        "x = True\n",
        "y = False\n",
        "\n",
        "print(type(x), type(y))"
      ],
      "metadata": {
        "id": "oxoxPUa8s5fL"
      },
      "execution_count": null,
      "outputs": []
    },
    {
      "cell_type": "markdown",
      "source": [
        "### List\n",
        "เป็นชุดข้อมูล ที่มีโครงสร้างเป็นลำดับ (Sequence) โดยจะมี index เป็นตัวระบุตำแหน่ง"
      ],
      "metadata": {
        "id": "9v51FgANqtFj"
      }
    },
    {
      "cell_type": "code",
      "source": [
        "number_list = [1, 3, 5, 7]\n",
        "print(type(number_list), number_list)"
      ],
      "metadata": {
        "id": "Niluo-bDqvRy"
      },
      "execution_count": null,
      "outputs": []
    },
    {
      "cell_type": "code",
      "source": [
        "string_list = [\"Cats\", \"Dogs\", \"Fish\"]\n",
        "print(string_list)"
      ],
      "metadata": {
        "id": "tLFQ4LTMqvY2"
      },
      "execution_count": null,
      "outputs": []
    },
    {
      "cell_type": "markdown",
      "source": [
        "### Dictionaries\n",
        "คือประเภทข้อมูลที่เก็บอยู่ในรูปแบบคู่ของ Key และ Value โดยที่ Key ใช้เป็น Index ในการเข้าถึงข้อมูล และ Value ค่าที่ต้องการเก็บ"
      ],
      "metadata": {
        "id": "3RIILoh1qvia"
      }
    },
    {
      "cell_type": "code",
      "source": [
        "obj = {\"name\":\"python\", \"date\":\"10/3/67\"} #{}\n",
        "print(type(obj), obj)"
      ],
      "metadata": {
        "id": "dcuW3M2Eq4ag"
      },
      "execution_count": null,
      "outputs": []
    },
    {
      "cell_type": "code",
      "source": [
        "obj = {\"name\":\"kaeng\", \"age\":20}\n",
        "print(obj)\n",
        "print(obj[\"name\"])\n",
        "print(obj[\"age\"])"
      ],
      "metadata": {
        "id": "2RFHirpWq4ce"
      },
      "execution_count": null,
      "outputs": []
    },
    {
      "cell_type": "markdown",
      "source": [
        "## Type Casting"
      ],
      "metadata": {
        "id": "RDbekmY9W5uc"
      }
    },
    {
      "cell_type": "code",
      "source": [
        "x = \"100\"\n",
        "y = \"33.87\"\n",
        "z = \"20.0\"\n",
        "print(type(x), type(y), type(z))"
      ],
      "metadata": {
        "id": "6h2KENPxSw7P"
      },
      "execution_count": null,
      "outputs": []
    },
    {
      "cell_type": "code",
      "source": [
        "print(x + y + z)"
      ],
      "metadata": {
        "id": "maiF20PkXGzy"
      },
      "execution_count": null,
      "outputs": []
    },
    {
      "cell_type": "code",
      "source": [
        "x = int(x)\n",
        "y = float(y)\n",
        "z = float(z)\n",
        "print(x + y + z)"
      ],
      "metadata": {
        "id": "Eq4Djm5uwX_2"
      },
      "execution_count": null,
      "outputs": []
    },
    {
      "cell_type": "markdown",
      "source": [
        "# QUIZ"
      ],
      "metadata": {
        "id": "6pw_PKrwyHm-"
      }
    },
    {
      "cell_type": "markdown",
      "source": [
        "![alt_text](https://drive.google.com/uc?id=1HXlc84aklASq0Vmn35NpdK3fZZBIuDnS)\n"
      ],
      "metadata": {
        "id": "K-DwyvIeJqzu"
      }
    },
    {
      "cell_type": "code",
      "source": [],
      "metadata": {
        "id": "rAJmajA3PcJR"
      },
      "execution_count": null,
      "outputs": []
    }
  ]
}